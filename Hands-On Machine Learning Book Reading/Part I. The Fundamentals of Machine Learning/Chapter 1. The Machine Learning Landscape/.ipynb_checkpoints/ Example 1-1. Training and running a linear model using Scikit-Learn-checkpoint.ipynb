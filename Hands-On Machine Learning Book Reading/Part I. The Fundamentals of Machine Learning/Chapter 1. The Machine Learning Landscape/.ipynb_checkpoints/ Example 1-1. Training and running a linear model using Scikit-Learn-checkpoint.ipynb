{
 "cells": [
  {
   "cell_type": "code",
   "execution_count": 1,
   "id": "b4c175af",
   "metadata": {},
   "outputs": [],
   "source": [
    "import numpy as np\n",
    "import pandas as pd\n",
    "import matplotlib.pyplot as plt\n",
    "from sklearn.linear_model import LinearRegression"
   ]
  },
  {
   "cell_type": "markdown",
   "id": "ca8d3d85",
   "metadata": {},
   "source": [
    "## Download and prepare the data"
   ]
  },
  {
   "cell_type": "code",
   "execution_count": null,
   "id": "89ec80df",
   "metadata": {},
   "outputs": [],
   "source": [
    "lifesat = pd.read_csv('OECD.csv')\n",
    "X = lifesat[[\"GDP per capita (USD)\"]].values\n",
    "Y = lifesat[[\"Life satisfaction\"]].values"
   ]
  },
  {
   "cell_type": "markdown",
   "id": "1f81013b",
   "metadata": {},
   "source": [
    "## Visualize the data"
   ]
  },
  {
   "cell_type": "code",
   "execution_count": null,
   "id": "96d3f0c8",
   "metadata": {},
   "outputs": [],
   "source": [
    "lifesat.plot(kind='scatter', grid=True, \n",
    "                x=\"GDP per capita (USD)\", y=\"Life satisfaction\")\n",
    "plt.axis([23_500, 62_500, 4, 9])\n",
    "plt.show() "
   ]
  },
  {
   "cell_type": "markdown",
   "id": "eae1d111",
   "metadata": {},
   "source": [
    "## Select a linear model"
   ]
  },
  {
   "cell_type": "code",
   "execution_count": null,
   "id": "46a29429",
   "metadata": {},
   "outputs": [],
   "source": [
    "model = LinearRegression()"
   ]
  },
  {
   "cell_type": "markdown",
   "id": "f83c5be3",
   "metadata": {},
   "source": [
    "## Train the model"
   ]
  },
  {
   "cell_type": "code",
   "execution_count": null,
   "id": "c47a4f6b",
   "metadata": {},
   "outputs": [],
   "source": [
    "model.fit(X, y)"
   ]
  },
  {
   "cell_type": "markdown",
   "id": "6ebeec4d",
   "metadata": {},
   "source": [
    "## Make a prediction for Cyprus"
   ]
  },
  {
   "cell_type": "code",
   "execution_count": null,
   "id": "8f97328b",
   "metadata": {},
   "outputs": [],
   "source": [
    "X_new = [[37_655.2]]  # Cyprus' GDP per capita in 2020\n",
    "print(model.predict(X_new)) # output: [[6.30165767]]"
   ]
  }
 ],
 "metadata": {
  "kernelspec": {
   "display_name": "Python 3 (ipykernel)",
   "language": "python",
   "name": "python3"
  },
  "language_info": {
   "codemirror_mode": {
    "name": "ipython",
    "version": 3
   },
   "file_extension": ".py",
   "mimetype": "text/x-python",
   "name": "python",
   "nbconvert_exporter": "python",
   "pygments_lexer": "ipython3",
   "version": "3.11.5"
  }
 },
 "nbformat": 4,
 "nbformat_minor": 5
}
